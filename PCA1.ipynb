{
  "nbformat": 4,
  "nbformat_minor": 0,
  "metadata": {
    "colab": {
      "name": "PCA 기초.ipynb",
      "provenance": [],
      "collapsed_sections": []
    },
    "kernelspec": {
      "name": "python3",
      "display_name": "Python 3"
    },
    "language_info": {
      "name": "python"
    }
  },
  "cells": [
    {
      "cell_type": "code",
      "execution_count": 4,
      "metadata": {
        "id": "VuE2izQZTT_a"
      },
      "outputs": [],
      "source": [
        "import numpy as np\n",
        "import pandas as pd\n",
        "import matplotlib.pyplot as plt"
      ]
    },
    {
      "cell_type": "code",
      "source": [
        "np_data = np.array([\n",
        "                    [170, 70],\n",
        "                    [150, 45],\n",
        "                    [160, 55],\n",
        "                    [170, 60],\n",
        "                    [178, 80]\n",
        "], dtype='float')\n",
        "print(np_data)\n",
        "df = pd.DataFrame(np_data, columns=['height', 'weight'])\n",
        "print(df)\n",
        "df.plot.scatter(x='height', y='weight')"
      ],
      "metadata": {
        "colab": {
          "base_uri": "https://localhost:8080/",
          "height": 497
        },
        "id": "nZRsd6byTY6D",
        "outputId": "bf36e5f0-981d-419c-e1f2-8148be6d325e"
      },
      "execution_count": 8,
      "outputs": [
        {
          "output_type": "stream",
          "name": "stdout",
          "text": [
            "[[170.  70.]\n",
            " [150.  45.]\n",
            " [160.  55.]\n",
            " [170.  60.]\n",
            " [178.  80.]]\n",
            "   height  weight\n",
            "0   170.0    70.0\n",
            "1   150.0    45.0\n",
            "2   160.0    55.0\n",
            "3   170.0    60.0\n",
            "4   178.0    80.0\n"
          ]
        },
        {
          "output_type": "execute_result",
          "data": {
            "text/plain": [
              "<matplotlib.axes._subplots.AxesSubplot at 0x7f1f31408a10>"
            ]
          },
          "metadata": {},
          "execution_count": 8
        },
        {
          "output_type": "display_data",
          "data": {
            "text/plain": [
              "<Figure size 432x288 with 1 Axes>"
            ],
            "image/png": "[encoded data removed]"
          },
          "metadata": {
            "needs_background": "light"
          }
        }
      ]
    },
    {
      "cell_type": "code",
      "source": [
        "print(np_data.shape)\n",
        "print(np_data.dtype)"
      ],
      "metadata": {
        "colab": {
          "base_uri": "https://localhost:8080/"
        },
        "id": "LIjHQTBRUm0V",
        "outputId": "295aa29d-8ba5-47e0-b4ae-769b6d870198"
      },
      "execution_count": 9,
      "outputs": [
        {
          "output_type": "stream",
          "name": "stdout",
          "text": [
            "(5, 2)\n",
            "float64\n"
          ]
        }
      ]
    },
    {
      "cell_type": "code",
      "source": [
        "print(np_data.mean(axis=0))\n",
        "X = np_data - np_data.mean(axis=0)\n",
        "print(X)\n",
        "df = pd.DataFrame(X, columns=['height', 'weight'])\n",
        "df.plot.scatter(x='height', y='weight')"
      ],
      "metadata": {
        "colab": {
          "base_uri": "https://localhost:8080/",
          "height": 407
        },
        "id": "3bPMODNkVWAu",
        "outputId": "efd5594e-caeb-4943-e41d-0f9c740c62c7"
      },
      "execution_count": 10,
      "outputs": [
        {
          "output_type": "stream",
          "name": "stdout",
          "text": [
            "[165.6  62. ]\n",
            "[[  4.4   8. ]\n",
            " [-15.6 -17. ]\n",
            " [ -5.6  -7. ]\n",
            " [  4.4  -2. ]\n",
            " [ 12.4  18. ]]\n"
          ]
        },
        {
          "output_type": "execute_result",
          "data": {
            "text/plain": [
              "<matplotlib.axes._subplots.AxesSubplot at 0x7f1f30d8c050>"
            ]
          },
          "metadata": {},
          "execution_count": 10
        },
        {
          "output_type": "display_data",
          "data": {
            "text/plain": [
              "<Figure size 432x288 with 1 Axes>"
            ],
            "image/png": "[encoded data removed]"
          },
          "metadata": {
            "needs_background": "light"
          }
        }
      ]
    },
    {
      "cell_type": "code",
      "source": [
        "#co-variance -> 2개\n",
        "# [var(height), co-var(height, weight)]\n",
        "# [co-var(height, weight), var(weight)]\n",
        "\n",
        "# X.T @ X # (2,5) x (5,2)\n",
        "cov = X.T @ X / len(X)\n",
        "cov"
      ],
      "metadata": {
        "colab": {
          "base_uri": "https://localhost:8080/"
        },
        "id": "aLwGd35CWdn5",
        "outputId": "928ac790-2aa9-40dd-c5e0-e2aecf6e28de"
      },
      "execution_count": 13,
      "outputs": [
        {
          "output_type": "execute_result",
          "data": {
            "text/plain": [
              "array([[ 93.44, 110.8 ],\n",
              "       [110.8 , 146.  ]])"
            ]
          },
          "metadata": {},
          "execution_count": 13
        }
      ]
    },
    {
      "cell_type": "code",
      "source": [
        "#eigenvalue\n",
        "\n",
        "# Ax = Δx\n",
        "\n",
        "eigenvalue1 = (cov.diagonal().sum() + np.sqrt(cov.diagonal().sum()**2 - 4*np.linalg.det(cov))) / 2\n",
        "eigenvalue2 = (cov.diagonal().sum() - np.sqrt(cov.diagonal().sum()**2 - 4*np.linalg.det(cov))) / 2\n",
        "\n",
        "print(eigenvalue1, eigenvalue2)"
      ],
      "metadata": {
        "colab": {
          "base_uri": "https://localhost:8080/"
        },
        "id": "ZR4mIPGxYKBc",
        "outputId": "97c273e6-322b-4d18-81e2-98b993dc4804"
      },
      "execution_count": 16,
      "outputs": [
        {
          "output_type": "stream",
          "name": "stdout",
          "text": [
            "233.59395839260176 5.846041607398234\n"
          ]
        }
      ]
    },
    {
      "cell_type": "code",
      "source": [
        "ev1 = np.array([-cov[0][1], cov[0][0] - eigenvalue1 ])\n",
        "ev1_norm = ev1 / np.linalg.norm(ev1)\n",
        "print(ev1, ev1_norm, np.sqrt(ev1_norm[0]**2 + ev1_norm[1]**2)) # np.sqrt(ev1_norm[0]**2 + ev1_norm[1]**2) = L2 norm. cf.) L2 distance, HAMMING distance"
      ],
      "metadata": {
        "colab": {
          "base_uri": "https://localhost:8080/"
        },
        "id": "0_DR-IOYeXLQ",
        "outputId": "14d2c408-0832-4a2c-8c7a-f5921b9cc26e"
      },
      "execution_count": 18,
      "outputs": [
        {
          "output_type": "stream",
          "name": "stdout",
          "text": [
            "[-110.8        -140.15395839] [-0.62016874 -0.78446844] 1.0\n"
          ]
        }
      ]
    },
    {
      "cell_type": "code",
      "source": [
        "ev2 = np.array([-cov[0][1], cov[0][0] - eigenvalue2 ])\n",
        "ev2_norm = ev2 / np.linalg.norm(ev2)\n",
        "print(ev2, ev2_norm, np.sqrt(ev2_norm[0]**2 + ev1_norm[1]**2))"
      ],
      "metadata": {
        "colab": {
          "base_uri": "https://localhost:8080/"
        },
        "id": "oHgSF0AUe2LJ",
        "outputId": "db3b9da8-57dc-4391-e666-015c033a8608"
      },
      "execution_count": 23,
      "outputs": [
        {
          "output_type": "stream",
          "name": "stdout",
          "text": [
            "[-110.8          87.59395839] [-0.78446844  0.62016874] 1.1094059105126903\n"
          ]
        }
      ]
    },
    {
      "cell_type": "code",
      "source": [
        "np.dot(ev1_norm, ev2_norm)"
      ],
      "metadata": {
        "colab": {
          "base_uri": "https://localhost:8080/"
        },
        "id": "JjdFUMLHfL-N",
        "outputId": "7587ab05-454a-455d-e722-89dab7fef933"
      },
      "execution_count": 24,
      "outputs": [
        {
          "output_type": "execute_result",
          "data": {
            "text/plain": [
              "5.551115123125783e-17"
            ]
          },
          "metadata": {},
          "execution_count": 24
        }
      ]
    },
    {
      "cell_type": "code",
      "source": [
        "np.dot(ev1, ev2) # float, byte 2진수"
      ],
      "metadata": {
        "colab": {
          "base_uri": "https://localhost:8080/"
        },
        "id": "sdkF1NURfVmo",
        "outputId": "c80f3f9d-7e49-4b87-a434-1b268cbd93a1"
      },
      "execution_count": 25,
      "outputs": [
        {
          "output_type": "execute_result",
          "data": {
            "text/plain": [
              "1.8189894035458565e-12"
            ]
          },
          "metadata": {},
          "execution_count": 25
        }
      ]
    },
    {
      "cell_type": "code",
      "source": [
        "plt.figure(figsize=(8,8)) # inch\n",
        "plt.xlim((-20, 20))\n",
        "plt.ylim((-20, 20))\n",
        "\n",
        "# pc\n",
        "x = [-eigenvalue1*ev1_norm[0], eigenvalue1*ev1_norm[0]]\n",
        "y = [-eigenvalue1*ev1_norm[1], eigenvalue1*ev1_norm[1]]\n",
        "plt.plot(x, y, 'g--')\n",
        "\n",
        "x = [-eigenvalue2*ev2_norm[0], eigenvalue2*ev2_norm[0]]\n",
        "y = [-eigenvalue2*ev2_norm[1], eigenvalue2*ev2_norm[1]]\n",
        "plt.plot(x, y, 'r--')\n",
        "\n",
        "plt.scatter(df['height'], df['weight'])"
      ],
      "metadata": {
        "colab": {
          "base_uri": "https://localhost:8080/",
          "height": 505
        },
        "id": "nMt3fQ3qf4_g",
        "outputId": "5d2c2c3c-527e-443d-87ab-57b57dffbe37"
      },
      "execution_count": 31,
      "outputs": [
        {
          "output_type": "execute_result",
          "data": {
            "text/plain": [
              "<matplotlib.collections.PathCollection at 0x7f1f304cfc90>"
            ]
          },
          "metadata": {},
          "execution_count": 31
        },
        {
          "output_type": "display_data",
          "data": {
            "text/plain": [
              "<Figure size 576x576 with 1 Axes>"
            ],
            "image/png": "[encoded data removed]"
          },
          "metadata": {
            "needs_background": "light"
          }
        }
      ]
    }
  ]
}